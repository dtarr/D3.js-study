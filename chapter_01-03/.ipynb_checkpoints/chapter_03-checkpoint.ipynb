{
 "cells": [
  {
   "cell_type": "markdown",
   "metadata": {},
   "source": [
    "# 기술적 토대"
   ]
  },
  {
   "cell_type": "markdown",
   "metadata": {},
   "source": [
    "## 1. 웹\n",
    "- 웹 : 웹 서버와 웹 클라이언트(브라우저) 간의 대화 모음\n",
    "\n",
    "- 클라이언트는 요청을 위해 서버에 연결하고, 서버는 데이터로 응답\n",
    "\n",
    "- 웹 서버 : 서버 소프트웨어가 실행되는 인터넷에 연결된 컴퓨터\n",
    "- 로컬 서버를 사용하는 경우, 작업하고 있는 컴퓨터를 서버로 사용한다는 의미!\n",
    "\n",
    "#### URL의 구성\n",
    "- HTTP / HTTPS 같은 통신 프로토콜 표시\n",
    "- 자원의 도메인 명\n",
    "- 서버 접속을 시도해야 하는 포트 넘버\n",
    "- 추가 정보 위치\n",
    "\n",
    "- 보통 웹 브라우저는 포트 80을 기본값으로 연결\n",
    "\n",
    "\n",
    "단계별 구성\n",
    "1. 브라우저를 실행해 URL을 입력\n",
    "2. 브라우저는 도메인 뒤에 숨어있는 서버로 연결을 시도 ( 포트 넘버 : 80 )\n",
    "3. 도메인과 연관된 서브는 연결을 승인하고 요청을 받기 시작\n",
    "4. 브라우저는 세부 주소에 있는 페이지에 대한 요청(request)을 보냄\n",
    "5. 서버는 요청 받은 해당 페이지에 대한 HTML 콘텐츠를 보냄\n",
    "6. 클라이언트 브라우저는 서버로받은 HTML에서 페이지 전체를 출력하고 다른 참조 파일을 찾음.\n",
    "7. 서버는 파일 전송으로 응답(response)\n",
    "8. 모든 웹문서가 건너왔고 클라이언트는 콘텐츠를 렌더링하기 위한 작업 수행. ( HTML 분석 ; parsing )\n"
   ]
  },
  {
   "cell_type": "code",
   "execution_count": null,
   "metadata": {
    "collapsed": true
   },
   "outputs": [],
   "source": []
  },
  {
   "cell_type": "code",
   "execution_count": null,
   "metadata": {
    "collapsed": true
   },
   "outputs": [],
   "source": []
  },
  {
   "cell_type": "markdown",
   "metadata": {},
   "source": [
    "## 2. HTML\n",
    "\n",
    "HTML ( Hypertext Markup Language: HTML ) : 웹 브라우저를 위해 콘텐츠를 구조화하는 데 사용\n",
    "\n",
    "\n",
    "- markup : HTML을 사용해 콘텐츠가 구조를 가질 수 있도록 손질하는 과정 ( HTML의 핵심 기능 )\n",
    "\n",
    "- HTML은 의미론적 구조 (semantic structure)의 명시, 계층구조와 관계 중시, 콘텐츠의 의미 부여를 위한 도구\n",
    "- 문서 구조의 시각적 표현은 CSS의 몫!\n",
    "\n",
    "\n",
    "- markup : DOM에 문서요소(element)를 생성하기 위해서 태그(tag)를 추가하는 과정\n",
    "\n"
   ]
  },
  {
   "cell_type": "markdown",
   "metadata": {},
   "source": [
    "### 많이 사용되는 문서요소\n",
    "- 전체 목록은 https://developer.mozilla.org/en/HTML/Elemnt 을 참고!\n",
    "\n",
    "\n",
    "- <!DOCTYPE html> : 표준 문서 타입 선언. 문서의 최상단에 위치\n",
    "- html : 문서의 전체 HTMl 컨텐츠를 감쌈\n",
    "- head : 문서에 대한 모든 부가 정보를 담음. title, 외부 스타일시트, 자바스크립트 파일 참조\n",
    "- title : 문서 제목, 페이지를 북마크시 사용\n",
    "- body : heade를 제외한 모든 문서 요소. 시각적으로 표현되는 주 콘텐츠\n",
    "\n",
    "- h1, h2, h3, h4, : 단게별 제목\n",
    "- p : 글의 단락\n",
    "- ul, ol, li : ul은 번호가 없는 목록. ol은 번호가 있는 목록. ul과 ol 모두 목록의 항목 지정을 위해 li 요소 포함!\n",
    "\n",
    "- em : 강조 (이탤릭체)\n",
    "- strong : 좀 더 강조. 볼드체\n",
    "- a : 밑줄과 파란색 텍스트\n",
    "- span : p같은 문서요소 안에서 더 좁은 텍스트 영역\n",
    "- div : 문서 안에서 임의로 분할한 영역\n"
   ]
  },
  {
   "cell_type": "markdown",
   "metadata": {},
   "source": [
    "## 속성\n",
    "\n",
    "속성은 프로퍼티 명과 프로퍼티 값으로 되어 있음\n",
    "\n",
    "ex)\n",
    "\n",
    "<a href=\"http://d3js.org/\">The D3 website</a>\n"
   ]
  },
  {
   "cell_type": "markdown",
   "metadata": {},
   "source": [
    "## Class와 ID\n",
    "\n",
    "css, 자바스크립트 코드는 문서요소를 알아낼 때 class와 id에 많이 의지함\n",
    "\n",
    "id는 문서에서 동작이 있는 버튼이나 내용을 담은 컨테이너처럼 특별한 역할을 하는 요소일 경우 사용! 아니면 class"
   ]
  },
  {
   "cell_type": "markdown",
   "metadata": {},
   "source": [
    "## DOM\n",
    "\n",
    "- DOM ( Document Object Model ) : HTML의 계층적 구조. \n",
    "    \n",
    "- 시각화를 구축할 때 문서요소에 동작이나 스타일을 적용하려면 DOM의 계층구조를 탐색해야 하기 때문에 DOM이 중요!"
   ]
  },
  {
   "cell_type": "markdown",
   "metadata": {},
   "source": [
    "# 렌더링\n",
    "\n",
    "렌더링 : 브라우저가 HTML을 파싱하고 DOM을 생성한 후 밝는 과정으로 DOM 콘텐츠에 시각적 규칙을 적용하고 화면에 이를 픽셀로 그림\n",
    "\n",
    "=> 렌더링할 때, 모든 요소를 사각형으로 인식하기 때문에 박스 모델이라고 부름\n",
    "\n"
   ]
  },
  {
   "cell_type": "markdown",
   "metadata": {},
   "source": [
    "# CSS\n",
    "\n",
    "CSS : Cascading Style Sheets\n",
    "\n",
    "DOM의 시각적 표현을 꾸미는 데 사용함.\n",
    "\n",
    "선택자(selector)와 프로퍼팆(property)로 구성됨. \n",
    "\n",
    "select{\n",
    "\n",
    "    property: value;\n",
    "    property: value;\n",
    "    preoperty: value;\n",
    "\n",
    "}\n",
    "\n",
    "선택자 뒤에는 중괄호로 감싼 프로퍼티 목록이 따라오며, 프로퍼티 명과 그 값은 콜론(:)으로 구분하고 각 라인은 세미콜론(;)으로 끝냄"
   ]
  },
  {
   "cell_type": "markdown",
   "metadata": {},
   "source": [
    "p, \n",
    "\n",
    "li{\n",
    "\n",
    "    font-size: 12px;\n",
    "    line-height: 14px;\n",
    "    color: orange;\n",
    "\n",
    "}"
   ]
  },
  {
   "cell_type": "markdown",
   "metadata": {},
   "source": [
    "### CSS 선택자\n",
    "\n",
    "#### 타입 선택자\n",
    "- 가장 간단한 형태로 동명의 DOM 문서 요소를 찾음\n",
    "\n",
    "h1 : 모든 레벨 1의 제목을 선택\n",
    "\n",
    "p : 모든 문단을 선택\n",
    "\n",
    "strong\n",
    "\n",
    "em\n",
    "\n",
    "div\n",
    "\n",
    "#### 자손 선택자\n",
    "- 어떤 문서요소로 감싸인 문서요소들을 찾음. 스타일 적용시 가장 많이 사용\n",
    "\n",
    "h1 em : h1로 감싸인 em 요소들을 선택\n",
    "\n",
    "div p : div로 감싸인 p 문서요소들 선택\n",
    "\n",
    "\n",
    "#### 클래스 선택자\n",
    "- 문서요소 종류에 관계없이 지정한 클래스가 할당된 문서요소를 모두 찾음. 클래스 명은 구두점으로 시작\n",
    "\n",
    "- .caption\n",
    "- .label\n",
    "- .axis\n",
    "\n",
    "#### ID 선택자\n",
    "- 주어진 ID가 있는 문서요소 하나를 선택. 해시 마크를 붙여 시작(#)\n",
    "\n",
    "- #header\n",
    "- #nav\n",
    "- #export\n",
    "\n",
    "#### CSS 프로퍼티 \n",
    "- https://developer.mozila.org/en/CSS/CSS_Reference\n",
    "\n",
    "\n",
    "#### CSS 주석\n",
    "- /** ....   * * /\n",
    "\n",
    "\n",
    "#### 스타일 참조\n",
    "- HTML 문서에 CSS 스타일 규칙을 적용하는 3가지 방법\n",
    "\n",
    "1) CSS를 HTML에 넣기\n",
    "- head의 sytle 문서 요소에 모든 css 코드를 넣음\n",
    "\n",
    "- 이 방식이 가장 간단하지만 보통 코드 종류별로 문서를 분리해 유지함\n",
    "\n",
    "2) 스타일시트 파일을 HTML에서 참조하기\n",
    "- style.css처럼 css를 붙인 텍스트로 저장한 후, header에 link 문서요소를 사용해 참조\n",
    "\n",
    "\n",
    "3) HTML에 인라인 스타일 추가하기\n",
    "- HTML의 문서요소에 스타일 규칙을 직접 인라인으로 추가하는 방법.\n",
    "- style 속성을 추가한 후, 큰 따옴표 안에 규칙을 넣으면 됨\n",
    "- 인라인 스타일은 선택자를 사용하지 않아 읽기 어렵고 지저분하다는 단점이 있음."
   ]
  },
  {
   "cell_type": "code",
   "execution_count": null,
   "metadata": {
    "collapsed": true
   },
   "outputs": [],
   "source": []
  }
 ],
 "metadata": {
  "kernelspec": {
   "display_name": "Python 3",
   "language": "python",
   "name": "python3"
  },
  "language_info": {
   "codemirror_mode": {
    "name": "ipython",
    "version": 3
   },
   "file_extension": ".py",
   "mimetype": "text/x-python",
   "name": "python",
   "nbconvert_exporter": "python",
   "pygments_lexer": "ipython3",
   "version": "3.5.1"
  }
 },
 "nbformat": 4,
 "nbformat_minor": 0
}
