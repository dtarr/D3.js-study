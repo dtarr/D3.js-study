{
 "cells": [
  {
   "cell_type": "markdown",
   "metadata": {},
   "source": [
    "# 기술적 토대"
   ]
  },
  {
   "cell_type": "markdown",
   "metadata": {},
   "source": [
    "## 1. 웹\n",
    "- 웹 : 웹 서버와 웹 클라이언트(브라우저) 간의 대화 모음\n",
    "\n",
    "- 클라이언트는 요청을 위해 서버에 연결하고, 서버는 데이터로 응답\n",
    "\n",
    "- 웹 서버 : 서버 소프트웨어가 실행되는 인터넷에 연결된 컴퓨터\n",
    "- 로컬 서버를 사용하는 경우, 작업하고 있는 컴퓨터를 서버로 사용한다는 의미!\n",
    "\n",
    "#### URL의 구성\n",
    "- HTTP / HTTPS 같은 통신 프로토콜 표시\n",
    "- 자원의 도메인 명\n",
    "- 서버 접속을 시도해야 하는 포트 넘버\n",
    "- 추가 정보 위치\n",
    "\n",
    "- 보통 웹 브라우저는 포트 80을 기본값으로 연결\n",
    "\n",
    "\n",
    "단계별 구성\n",
    "1. 브라우저를 실행해 URL을 입력\n",
    "2. 브라우저는 도메인 뒤에 숨어있는 서버로 연결을 시도 ( 포트 넘버 : 80 )\n",
    "3. 도메인과 연관된 서브는 연결을 승인하고 요청을 받기 시작\n",
    "4. 브라우저는 세부 주소에 있는 페이지에 대한 요청(request)을 보냄\n",
    "5. 서버는 요청 받은 해당 페이지에 대한 HTML 콘텐츠를 보냄\n",
    "6. 클라이언트 브라우저는 서버로받은 HTML에서 페이지 전체를 출력하고 다른 참조 파일을 찾음.\n",
    "7. 서버는 파일 전송으로 응답(response)\n",
    "8. 모든 웹문서가 건너왔고 클라이언트는 콘텐츠를 렌더링하기 위한 작업 수행. ( HTML 분석 ; parsing )\n"
   ]
  },
  {
   "cell_type": "code",
   "execution_count": null,
   "metadata": {
    "collapsed": true
   },
   "outputs": [],
   "source": []
  },
  {
   "cell_type": "code",
   "execution_count": null,
   "metadata": {
    "collapsed": true
   },
   "outputs": [],
   "source": []
  },
  {
   "cell_type": "markdown",
   "metadata": {},
   "source": [
    "## 2. HTML\n",
    "\n",
    "HTML ( Hypertext Markup Language: HTML ) : 웹 브라우저를 위해 콘텐츠를 구조화하는 데 사용\n",
    "\n",
    "\n",
    "- markup : HTML을 사용해 콘텐츠가 구조를 가질 수 있도록 손질하는 과정 ( HTML의 핵심 기능 )\n",
    "\n",
    "- HTML은 의미론적 구조 (semantic structure)의 명시, 계층구조와 관계 중시, 콘텐츠의 의미 부여를 위한 도구\n",
    "- 문서 구조의 시각적 표현은 CSS의 몫!\n",
    "\n",
    "\n",
    "- markup : DOM에 문서요소(element)를 생성하기 위해서 태그(tag)를 추가하는 과정 \n"
   ]
  },
  {
   "cell_type": "code",
   "execution_count": null,
   "metadata": {
    "collapsed": true
   },
   "outputs": [],
   "source": []
  }
 ],
 "metadata": {
  "kernelspec": {
   "display_name": "Python 3",
   "language": "python",
   "name": "python3"
  },
  "language_info": {
   "codemirror_mode": {
    "name": "ipython",
    "version": 3
   },
   "file_extension": ".py",
   "mimetype": "text/x-python",
   "name": "python",
   "nbconvert_exporter": "python",
   "pygments_lexer": "ipython3",
   "version": "3.5.1"
  }
 },
 "nbformat": 4,
 "nbformat_minor": 0
}
