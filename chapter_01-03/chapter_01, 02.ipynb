{
 "cells": [
  {
   "cell_type": "markdown",
   "metadata": {},
   "source": [
    "# D3.js - 쉽고 빠른 인터랙티브 시각화"
   ]
  },
  {
   "cell_type": "markdown",
   "metadata": {},
   "source": [
    "## 1장 - 책 소개"
   ]
  },
  {
   "cell_type": "markdown",
   "metadata": {},
   "source": [
    "- 이 책이 다루는 내용 : 데이터 시각화, 상호작용 설계, 웹 개발\n",
    "- D3가 어렵다기 보다 웹이 복잡한 것 -> HTML, CSS, 자바스크립트, SVG 같은 기술에 대한 지식이 선행되야함\n",
    "\n",
    "- 이 책이 다루지 않는 내용 : 위에 나온 것들을 깊게 알려주진 않음 ( 컴퓨터 공학의 개념은 극도로 단순화 )"
   ]
  },
  {
   "cell_type": "markdown",
   "metadata": {},
   "source": [
    "## 2장 - D3 소개"
   ]
  },
  {
   "cell_type": "markdown",
   "metadata": {},
   "source": [
    "- 데이터 시각화 제작을 위한 자바스크립트 라이브러리\n",
    "- D3 : 데이터 중심의 문서 ( Data Driven Documents )\n",
    "    \n",
    "### 작동 방식\n",
    "- 브라우저 메모리로 데이터를 불러온다 ( Loading )\n",
    "- 필요한 HTML 문서요소를 새로 만들어서 데이터를 엮는다 ( Binding )\n",
    "- 각 문서 요소에 엮인 개별 데이터를 토대로 해당 문서요소를 변환시킴. ( Transforming ) ★★\n",
    "- 사용자 입력에 대한 반응으로 문서요소의 상태를 한 값에서 다른 값으로 전이 ( Transtioning )\n",
    "\n",
    "##### 변환 단계에서 매핑 규칙은 직접 정해야 함\n",
    "- 더 큰 값은 더 긴 막대나 더 밝은 원이 된다.\n",
    "- X 축에 나이나 분류 명을 기준으로 데이터를 정렬한다\n",
    "- 세계 지도의 나라들은 어떤 색으로 칠할까? 등등\n",
    "\n",
    "\n",
    "### D3가 하지 않는 것\n",
    "- 사전에 정의된 시각화를 생성하지 않음.  ( 설명용 시각화 )\n",
    "- cf) **Tableau / ggplot2** 같은 도구들은 정의된 시각화 생성 ( 탐색용 시각화 )\n",
    "\n",
    "\n",
    "- 설명용 시각화는 탐색용과 비교하면 강제적이고 제한적이지만 소통하고자 하는 핵심에만 집중\n",
    "- 오래된 브라우저를 지원하지 않음 (익스플로러 8 이하 )\n",
    "- 비트맵 이미지 타입을 다루지 않고 SVG 이미지나 GeoJSON 데이터 같은 벡터 방식에 최적화 \n",
    "- 원본 데이터를 숨겨주지 않고 모두 공개함"
   ]
  },
  {
   "cell_type": "markdown",
   "metadata": {},
   "source": [
    "### D3의 대안들\n",
    "\n",
    "\n",
    "#### 차트 도구\n",
    "\n",
    "- Datawrapper ( http://datawrapper.de ) : 차트를 빠르게 생성 가능\n",
    "- Flot ( http://www.flotcharts.org/ ) : jQuery를 위한 드로잉 라이브러리 \n",
    "- Googld Chart Tools ( https://developers.google.com/chart ) : 구글 이미지 차트 API의 진보 도구\n",
    "- Highcharts JS ( http://www.highcharts.com/ ) : 미리 디자인된 여러 가지 테마와 차트 타입을 제공\n",
    "\n",
    "\n",
    "#### 그래프 시각화 도구 - 그래프 : 연결 구조가 있는 데이터\n",
    "\n",
    "- Arbor.js ( http://arborjs.org/ )\n",
    "- Sigma.js ( http://sigmajs.org/ )\n",
    "\n",
    "#### 지오매핑 도구\n",
    "- Kartograph ( http://kartograph.org/ )\n",
    "- Leaflet ( http://leaflet.cloudmade.com/ ) : 이미지 타일 지도를 위한 라이브러리\n",
    "\n",
    "#### 그리기 도구\n",
    "- Processing.js ( http://processingjs.org/ )\n",
    "- Paper.js ( http://paperjs.org/ ) : canvas로 벡터 그래픽을 렌더링\n",
    "\n",
    "#### 3차원 도구\n",
    "- PhiloGL ( http://www.senchalabs.org/philogl/ )\n",
    "- Thress.js ( http://mrdoob.github.com/three.js/ )\n"
   ]
  },
  {
   "cell_type": "code",
   "execution_count": null,
   "metadata": {
    "collapsed": true
   },
   "outputs": [],
   "source": []
  }
 ],
 "metadata": {
  "kernelspec": {
   "display_name": "Python 3",
   "language": "python",
   "name": "python3"
  },
  "language_info": {
   "codemirror_mode": {
    "name": "ipython",
    "version": 3
   },
   "file_extension": ".py",
   "mimetype": "text/x-python",
   "name": "python",
   "nbconvert_exporter": "python",
   "pygments_lexer": "ipython3",
   "version": "3.5.1"
  }
 },
 "nbformat": 4,
 "nbformat_minor": 0
}
